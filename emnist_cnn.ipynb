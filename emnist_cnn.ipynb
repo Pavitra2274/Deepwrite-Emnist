{
 "cells": [
  {
   "cell_type": "markdown",
   "id": "ecffcf6e",
   "metadata": {},
   "source": [
    "# Step 1: Notebook Setup"
   ]
  },
  {
   "cell_type": "markdown",
   "id": "58055b69",
   "metadata": {},
   "source": [
    "# EMNIST Letters + Digits Classification with CNN, Dropout, and Batch Normalization\n",
    "In this notebook:\n",
    "- We'll train a CNN on the EMNIST dataset (uppercase, lowercase, and digits).\n",
    "- We'll use **Dropout** to reduce overfitting and **Batch Normalization** to speed up convergence.\n",
    "- The dataset will be stored in `C:/emnist_data` to avoid OneDrive issues."
   ]
  },
  {
   "cell_type": "code",
   "execution_count": 1,
   "id": "8bd22566",
   "metadata": {},
   "outputs": [
    {
     "data": {
      "text/plain": [
       "device(type='cpu')"
      ]
     },
     "execution_count": 1,
     "metadata": {},
     "output_type": "execute_result"
    }
   ],
   "source": [
    "import torch\n",
    "import torch.nn as nn\n",
    "import torch.optim as optim\n",
    "from torch.utils.data import DataLoader\n",
    "from torchvision import datasets, transforms\n",
    "import matplotlib.pyplot as plt\n",
    "\n",
    "# Device config\n",
    "device = torch.device(\"cuda\" if torch.cuda.is_available() else \"cpu\")\n",
    "device\n"
   ]
  },
  {
   "cell_type": "markdown",
   "id": "d8d550fe",
   "metadata": {},
   "source": [
    "# Step 2: Data Loading"
   ]
  },
  {
   "cell_type": "markdown",
   "id": "dd8393d6",
   "metadata": {},
   "source": [
    "### Data Loading\n",
    "We'll use `datasets.EMNIST` with the `byclass` split to get:\n",
    "- Uppercase letters\n",
    "- Lowercase letters\n",
    "- Digits  \n",
    "This gives **62 classes** in total.\n"
   ]
  },
  {
   "cell_type": "code",
   "execution_count": 2,
   "id": "70e8bc7a",
   "metadata": {},
   "outputs": [
    {
     "name": "stderr",
     "output_type": "stream",
     "text": [
      "100.0%\n"
     ]
    },
    {
     "data": {
      "text/plain": [
       "(697932, 116323)"
      ]
     },
     "execution_count": 2,
     "metadata": {},
     "output_type": "execute_result"
    }
   ],
   "source": [
    "# Transform: normalize to [-1, 1]\n",
    "transform = transforms.Compose([\n",
    "    transforms.ToTensor(),\n",
    "    transforms.Normalize((0.5,), (0.5,))\n",
    "])\n",
    "\n",
    "# Path for dataset\n",
    "data_path = \"./emnist_data\"\n",
    "\n",
    "# Train and Test datasets\n",
    "train_dataset = datasets.EMNIST(\n",
    "    root=data_path, split='byclass', train=True,\n",
    "    download=True, transform=transform\n",
    ")\n",
    "\n",
    "test_dataset = datasets.EMNIST(\n",
    "    root=data_path, split='byclass', train=False,\n",
    "    download=True, transform=transform\n",
    ")\n",
    "\n",
    "# Data loaders (set num_workers=0 for Windows)\n",
    "train_loader = DataLoader(train_dataset, batch_size=128, shuffle=True, num_workers=0)\n",
    "test_loader = DataLoader(test_dataset, batch_size=128, shuffle=False, num_workers=0)\n",
    "\n",
    "len(train_dataset), len(test_dataset)\n"
   ]
  },
  {
   "cell_type": "markdown",
   "id": "31a946d6",
   "metadata": {},
   "source": [
    "# Step 3: CNN Model with Dropout + BatchNorm"
   ]
  },
  {
   "cell_type": "markdown",
   "id": "7b11b3af",
   "metadata": {},
   "source": [
    "### CNN Model\n",
    "We'll use:\n",
    "- **Conv2d + BatchNorm + ReLU + MaxPool**\n",
    "- Dropout between layers\n",
    "- Fully connected layers\n"
   ]
  },
  {
   "cell_type": "code",
   "execution_count": 3,
   "id": "3efb917c",
   "metadata": {},
   "outputs": [
    {
     "data": {
      "text/plain": [
       "CNNModel(\n",
       "  (conv_layer): Sequential(\n",
       "    (0): Conv2d(1, 32, kernel_size=(3, 3), stride=(1, 1), padding=(1, 1))\n",
       "    (1): BatchNorm2d(32, eps=1e-05, momentum=0.1, affine=True, track_running_stats=True)\n",
       "    (2): ReLU()\n",
       "    (3): MaxPool2d(kernel_size=2, stride=2, padding=0, dilation=1, ceil_mode=False)\n",
       "    (4): Dropout(p=0.25, inplace=False)\n",
       "    (5): Conv2d(32, 64, kernel_size=(3, 3), stride=(1, 1), padding=(1, 1))\n",
       "    (6): BatchNorm2d(64, eps=1e-05, momentum=0.1, affine=True, track_running_stats=True)\n",
       "    (7): ReLU()\n",
       "    (8): MaxPool2d(kernel_size=2, stride=2, padding=0, dilation=1, ceil_mode=False)\n",
       "    (9): Dropout(p=0.25, inplace=False)\n",
       "  )\n",
       "  (fc_layer): Sequential(\n",
       "    (0): Flatten(start_dim=1, end_dim=-1)\n",
       "    (1): Linear(in_features=3136, out_features=256, bias=True)\n",
       "    (2): BatchNorm1d(256, eps=1e-05, momentum=0.1, affine=True, track_running_stats=True)\n",
       "    (3): ReLU()\n",
       "    (4): Dropout(p=0.5, inplace=False)\n",
       "    (5): Linear(in_features=256, out_features=62, bias=True)\n",
       "  )\n",
       ")"
      ]
     },
     "execution_count": 3,
     "metadata": {},
     "output_type": "execute_result"
    }
   ],
   "source": [
    "class CNNModel(nn.Module):\n",
    "    def __init__(self):\n",
    "        super(CNNModel, self).__init__()\n",
    "        self.conv_layer = nn.Sequential(\n",
    "            nn.Conv2d(1, 32, kernel_size=3, padding=1),\n",
    "            nn.BatchNorm2d(32),\n",
    "            nn.ReLU(),\n",
    "            nn.MaxPool2d(2, 2),\n",
    "            nn.Dropout(0.25),\n",
    "\n",
    "            nn.Conv2d(32, 64, kernel_size=3, padding=1),\n",
    "            nn.BatchNorm2d(64),\n",
    "            nn.ReLU(),\n",
    "            nn.MaxPool2d(2, 2),\n",
    "            nn.Dropout(0.25)\n",
    "        )\n",
    "\n",
    "        self.fc_layer = nn.Sequential(\n",
    "            nn.Flatten(),\n",
    "            nn.Linear(64 * 7 * 7, 256),\n",
    "            nn.BatchNorm1d(256),\n",
    "            nn.ReLU(),\n",
    "            nn.Dropout(0.5),\n",
    "            nn.Linear(256, 62)  # 10 digits + 26 lowercase + 26 uppercase\n",
    "        )\n",
    "\n",
    "    def forward(self, x):\n",
    "        x = self.conv_layer(x)\n",
    "        x = self.fc_layer(x)\n",
    "        return x\n",
    "\n",
    "model = CNNModel().to(device)\n",
    "model\n"
   ]
  },
  {
   "cell_type": "markdown",
   "id": "11315657",
   "metadata": {},
   "source": [
    "# Step 4: Loss & Optimizer"
   ]
  },
  {
   "cell_type": "code",
   "execution_count": 4,
   "id": "f87b484e",
   "metadata": {},
   "outputs": [],
   "source": [
    "criterion = nn.CrossEntropyLoss()\n",
    "optimizer = optim.Adam(model.parameters(), lr=0.001)\n"
   ]
  },
  {
   "cell_type": "markdown",
   "id": "78da90ea",
   "metadata": {},
   "source": [
    "# Step 5: Training Loop"
   ]
  },
  {
   "cell_type": "markdown",
   "id": "8fc168d4",
   "metadata": {},
   "source": [
    "### Training Loop\n",
    "We'll train for a few epochs and keep track of loss & accuracy.\n"
   ]
  },
  {
   "cell_type": "code",
   "execution_count": 5,
   "id": "297b2846",
   "metadata": {},
   "outputs": [
    {
     "name": "stdout",
     "output_type": "stream",
     "text": [
      "Epoch [1/5], Loss: 0.5888, Accuracy: 80.85%\n",
      "Epoch [2/5], Loss: 0.4655, Accuracy: 83.76%\n",
      "Epoch [3/5], Loss: 0.4406, Accuracy: 84.47%\n",
      "Epoch [4/5], Loss: 0.4258, Accuracy: 84.85%\n",
      "Epoch [5/5], Loss: 0.4172, Accuracy: 85.10%\n"
     ]
    }
   ],
   "source": [
    "def train_model(num_epochs=5):\n",
    "    for epoch in range(num_epochs):\n",
    "        model.train()\n",
    "        running_loss = 0.0\n",
    "        correct, total = 0, 0\n",
    "\n",
    "        for images, labels in train_loader:\n",
    "            images, labels = images.to(device), labels.to(device)\n",
    "\n",
    "            optimizer.zero_grad()\n",
    "            outputs = model(images)\n",
    "            loss = criterion(outputs, labels)\n",
    "            loss.backward()\n",
    "            optimizer.step()\n",
    "\n",
    "            running_loss += loss.item()\n",
    "            _, predicted = torch.max(outputs.data, 1)\n",
    "            total += labels.size(0)\n",
    "            correct += (predicted == labels).sum().item()\n",
    "\n",
    "        print(f\"Epoch [{epoch+1}/{num_epochs}], Loss: {running_loss/len(train_loader):.4f}, \"\n",
    "              f\"Accuracy: {100 * correct / total:.2f}%\")\n",
    "\n",
    "train_model(5)\n"
   ]
  },
  {
   "cell_type": "markdown",
   "id": "8913c428",
   "metadata": {},
   "source": [
    "# Step 6: Testing"
   ]
  },
  {
   "cell_type": "code",
   "execution_count": 6,
   "id": "a958da46",
   "metadata": {},
   "outputs": [
    {
     "name": "stdout",
     "output_type": "stream",
     "text": [
      "Test Accuracy: 86.66%\n"
     ]
    }
   ],
   "source": [
    "model.eval()\n",
    "correct, total = 0, 0\n",
    "\n",
    "with torch.no_grad():\n",
    "    for images, labels in test_loader:\n",
    "        images, labels = images.to(device), labels.to(device)\n",
    "        outputs = model(images)\n",
    "        _, predicted = torch.max(outputs.data, 1)\n",
    "        total += labels.size(0)\n",
    "        correct += (predicted == labels).sum().item()\n",
    "\n",
    "print(f\"Test Accuracy: {100 * correct / total:.2f}%\")\n"
   ]
  },
  {
   "cell_type": "markdown",
   "id": "f0a71adc",
   "metadata": {},
   "source": [
    "# Step 7: Saving the Model"
   ]
  },
  {
   "cell_type": "code",
   "execution_count": 10,
   "id": "bf446ca3",
   "metadata": {},
   "outputs": [],
   "source": [
    "torch.save(model.state_dict(), r\"C:\\Pavitra Projects\\Character Recognition\\emnist_cnn.pth\")\n",
    "\n"
   ]
  }
 ],
 "metadata": {
  "kernelspec": {
   "display_name": "Python 3",
   "language": "python",
   "name": "python3"
  },
  "language_info": {
   "codemirror_mode": {
    "name": "ipython",
    "version": 3
   },
   "file_extension": ".py",
   "mimetype": "text/x-python",
   "name": "python",
   "nbconvert_exporter": "python",
   "pygments_lexer": "ipython3",
   "version": "3.11.4"
  }
 },
 "nbformat": 4,
 "nbformat_minor": 5
}
